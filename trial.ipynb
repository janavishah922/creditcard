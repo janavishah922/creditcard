{
  "nbformat": 4,
  "nbformat_minor": 0,
  "metadata": {
    "colab": {
      "name": "trial.ipynb",
      "version": "0.3.2",
      "provenance": [],
      "collapsed_sections": [],
      "include_colab_link": true
    },
    "kernelspec": {
      "name": "python3",
      "display_name": "Python 3"
    }
  },
  "cells": [
    {
      "cell_type": "markdown",
      "metadata": {
        "id": "view-in-github",
        "colab_type": "text"
      },
      "source": [
        "<a href=\"https://colab.research.google.com/github/janavishah922/creditcard/blob/master/trial.ipynb\" target=\"_parent\"><img src=\"https://colab.research.google.com/assets/colab-badge.svg\" alt=\"Open In Colab\"/></a>"
      ]
    },
    {
      "cell_type": "code",
      "metadata": {
        "id": "Qz4fJKAHvfDs",
        "colab_type": "code",
        "outputId": "e5c42ff5-cb93-426b-9776-2d2437b0b97b",
        "colab": {
          "base_uri": "https://localhost:8080/",
          "height": 187
        }
      },
      "source": [
        "#Clone the entire repo\n",
        "!git clone -l -s https://github.com/janavishah922/creditcard.git janavi\n",
        "%cd cloned-repo\n",
        "!ls"
      ],
      "execution_count": 0,
      "outputs": [
        {
          "output_type": "stream",
          "text": [
            "Cloning into 'janavi'...\n",
            "warning: --local is ignored\n",
            "remote: Enumerating objects: 9, done.\u001b[K\n",
            "remote: Counting objects: 100% (9/9), done.\u001b[K\n",
            "remote: Compressing objects: 100% (7/7), done.\u001b[K\n",
            "remote: Total 9 (delta 1), reused 0 (delta 0), pack-reused 0\u001b[K\n",
            "Unpacking objects: 100% (9/9), done.\n",
            "[Errno 2] No such file or directory: 'cloned-repo'\n",
            "/content\n",
            "janavi\tsample_data\n"
          ],
          "name": "stdout"
        }
      ]
    },
    {
      "cell_type": "code",
      "metadata": {
        "id": "YXeZBlY49AKl",
        "colab_type": "code",
        "colab": {}
      },
      "source": [
        "import pandas as pd\n",
        "path = \"/content/janavi/Collection_Home3.xlsx\"\n",
        "df = pd.read_excel(path)\n",
        "print(df)"
      ],
      "execution_count": 0,
      "outputs": []
    },
    {
      "cell_type": "code",
      "metadata": {
        "id": "i8a_AuDQ-DsR",
        "colab_type": "code",
        "colab": {}
      },
      "source": [
        "import pandas as pd\n",
        "\n",
        "import numpy as np\n",
        "\n",
        "import matplotlib.pyplot as plt\n",
        "\n",
        "import seaborn as sns"
      ],
      "execution_count": 0,
      "outputs": []
    },
    {
      "cell_type": "code",
      "metadata": {
        "id": "E-vhcgdK-GaB",
        "colab_type": "code",
        "colab": {}
      },
      "source": [
        "Collection_sample = df.sample(frac=0.1)"
      ],
      "execution_count": 0,
      "outputs": []
    },
    {
      "cell_type": "code",
      "metadata": {
        "id": "pbXMoMFh-YOI",
        "colab_type": "code",
        "colab": {}
      },
      "source": [
        "df.TARGET.value_counts()\n",
        "\n",
        "Collection_sample.TARGET.value_counts()"
      ],
      "execution_count": 0,
      "outputs": []
    },
    {
      "cell_type": "code",
      "metadata": {
        "id": "oraYFx3c-aoA",
        "colab_type": "code",
        "colab": {}
      },
      "source": [
        "#Target Variable Count in data and sample\n",
        "df.TARGET.value_counts()/len(df)\n",
        "\n",
        "Collection_sample.TARGET.value_counts()/len(Collection_sample)"
      ],
      "execution_count": 0,
      "outputs": []
    },
    {
      "cell_type": "code",
      "metadata": {
        "id": "ENGpO8L5-gyf",
        "colab_type": "code",
        "colab": {}
      },
      "source": [
        "# Data Description\n",
        "\n",
        "Collection_sample.describe()"
      ],
      "execution_count": 0,
      "outputs": []
    },
    {
      "cell_type": "code",
      "metadata": {
        "id": "Lxbs1Lh9-mMw",
        "colab_type": "code",
        "outputId": "1b2c4d03-d128-4a82-a477-f7d11d69e797",
        "colab": {
          "base_uri": "https://localhost:8080/",
          "height": 420
        }
      },
      "source": [
        "corr = Collection_sample.corr()\n",
        "\n",
        "sns.heatmap(corr, \n",
        "\n",
        "        xticklabels=corr.columns,\n",
        "\n",
        "        yticklabels=corr.columns)\n"
      ],
      "execution_count": 0,
      "outputs": [
        {
          "output_type": "execute_result",
          "data": {
            "text/plain": [
              "<matplotlib.axes._subplots.AxesSubplot at 0x7f2703180d30>"
            ]
          },
          "metadata": {
            "tags": []
          },
          "execution_count": 12
        },
        {
          "output_type": "display_data",
          "data": {
            "image/png": "[encoded data removed]",
            "text/plain": [
              "<Figure size 432x288 with 2 Axes>"
            ]
          },
          "metadata": {
            "tags": []
          }
        }
      ]
    },
    {
      "cell_type": "code",
      "metadata": {
        "id": "GYVTNocP-qWH",
        "colab_type": "code",
        "outputId": "c6fe08b9-b8ff-42c4-91fc-bb77d3e69201",
        "colab": {
          "base_uri": "https://localhost:8080/",
          "height": 218
        }
      },
      "source": [
        "from sklearn import preprocessing\n",
        "\n",
        "from collections import defaultdict\n",
        "\n",
        "d = defaultdict(preprocessing.LabelEncoder)\n",
        "fit = Collection_sample.select_dtypes(include=['object']).fillna('NA').apply(lambda x: d[x.name].fit_transform(x))\n"
      ],
      "execution_count": 0,
      "outputs": [
        {
          "output_type": "error",
          "ename": "NameError",
          "evalue": "ignored",
          "traceback": [
            "\u001b[0;31m---------------------------------------------------------------------------\u001b[0m",
            "\u001b[0;31mNameError\u001b[0m                                 Traceback (most recent call last)",
            "\u001b[0;32m<ipython-input-1-db4b133e5024>\u001b[0m in \u001b[0;36m<module>\u001b[0;34m()\u001b[0m\n\u001b[1;32m      4\u001b[0m \u001b[0;34m\u001b[0m\u001b[0m\n\u001b[1;32m      5\u001b[0m \u001b[0md\u001b[0m \u001b[0;34m=\u001b[0m \u001b[0mdefaultdict\u001b[0m\u001b[0;34m(\u001b[0m\u001b[0mpreprocessing\u001b[0m\u001b[0;34m.\u001b[0m\u001b[0mLabelEncoder\u001b[0m\u001b[0;34m)\u001b[0m\u001b[0;34m\u001b[0m\u001b[0;34m\u001b[0m\u001b[0m\n\u001b[0;32m----> 6\u001b[0;31m \u001b[0mfit\u001b[0m \u001b[0;34m=\u001b[0m \u001b[0mCollection_sample\u001b[0m\u001b[0;34m.\u001b[0m\u001b[0mselect_dtypes\u001b[0m\u001b[0;34m(\u001b[0m\u001b[0minclude\u001b[0m\u001b[0;34m=\u001b[0m\u001b[0;34m[\u001b[0m\u001b[0;34m'object'\u001b[0m\u001b[0;34m]\u001b[0m\u001b[0;34m)\u001b[0m\u001b[0;34m.\u001b[0m\u001b[0mfillna\u001b[0m\u001b[0;34m(\u001b[0m\u001b[0;34m'NA'\u001b[0m\u001b[0;34m)\u001b[0m\u001b[0;34m.\u001b[0m\u001b[0mapply\u001b[0m\u001b[0;34m(\u001b[0m\u001b[0;32mlambda\u001b[0m \u001b[0mx\u001b[0m\u001b[0;34m:\u001b[0m \u001b[0md\u001b[0m\u001b[0;34m[\u001b[0m\u001b[0mx\u001b[0m\u001b[0;34m.\u001b[0m\u001b[0mname\u001b[0m\u001b[0;34m]\u001b[0m\u001b[0;34m.\u001b[0m\u001b[0mfit_transform\u001b[0m\u001b[0;34m(\u001b[0m\u001b[0mx\u001b[0m\u001b[0;34m)\u001b[0m\u001b[0;34m)\u001b[0m\u001b[0;34m\u001b[0m\u001b[0;34m\u001b[0m\u001b[0m\n\u001b[0m",
            "\u001b[0;31mNameError\u001b[0m: name 'Collection_sample' is not defined"
          ]
        }
      ]
    },
    {
      "cell_type": "code",
      "metadata": {
        "id": "-jwQHJgD-vDQ",
        "colab_type": "code",
        "colab": {}
      },
      "source": [
        "#Convert the categorical columns based on encoding\n",
        "\n",
        "for i in list(d.keys()):\n",
        "\n",
        "    Collection_sample[i] = d[i].transform(Collection_sample[i].fillna('NA'))\n",
        "\n",
        "    \n",
        "\n",
        "    features = Collection_sample[Collection_sample.columns.difference(['TARGET'])]\n",
        "\n",
        "labels = Collection_sample['TARGET']\n",
        "\n",
        "features = features.fillna(0)\n"
      ],
      "execution_count": 0,
      "outputs": []
    },
    {
      "cell_type": "code",
      "metadata": {
        "id": "vNImeotO-1Do",
        "colab_type": "code",
        "colab": {}
      },
      "source": [
        "#WOE and IV\n",
        "\n",
        "\n",
        "\n",
        "import pandas.core.algorithms as algos\n",
        "\n",
        "from pandas import Series\n",
        "\n",
        "import scipy.stats.stats as stats\n",
        "\n",
        "import re\n",
        "\n",
        "import traceback\n",
        "\n",
        "import string\n",
        "\n",
        "\n",
        "\n",
        "max_bin = 20\n",
        "\n",
        "force_bin = 3"
      ],
      "execution_count": 0,
      "outputs": []
    },
    {
      "cell_type": "code",
      "metadata": {
        "id": "rQqL-VoY-3eA",
        "colab_type": "code",
        "colab": {}
      },
      "source": [
        "# define a binning function\n",
        "\n",
        "def mono_bin(Y, X, n = max_bin):\n",
        "\n",
        "    \n",
        "\n",
        "    df1 = pd.DataFrame({\"X\": X, \"Y\": Y})\n",
        "\n",
        "    justmiss = df1[['X','Y']][df1.X.isnull()]\n",
        "\n",
        "    notmiss = df1[['X','Y']][df1.X.notnull()]\n",
        "\n",
        "    r = 0\n",
        "\n",
        "    while np.abs(r) < 1:\n",
        "\n",
        "        try:\n",
        "\n",
        "            d1 = pd.DataFrame({\"X\": notmiss.X, \"Y\": notmiss.Y, \"Bucket\": pd.qcut(notmiss.X, n)})\n",
        "\n",
        "            d2 = d1.groupby('Bucket', as_index=True)\n",
        "\n",
        "            r, p = stats.spearmanr(d2.mean().X, d2.mean().Y)\n",
        "\n",
        "            n = n - 1 \n",
        "\n",
        "        except Exception as e:\n",
        "\n",
        "            n = n - 1\n",
        "\n",
        "\n",
        "\n",
        "    if len(d2) == 1:\n",
        "\n",
        "        n = force_bin         \n",
        "\n",
        "        bins = algos.quantile(notmiss.X, np.linspace(0, 1, n))\n",
        "\n",
        "        if len(np.unique(bins)) == 2:\n",
        "\n",
        "            bins = np.insert(bins, 0, 1)\n",
        "\n",
        "            bins[1] = bins[1]-(bins[1]/2)\n",
        "\n",
        "        d1 = pd.DataFrame({\"X\": notmiss.X, \"Y\": notmiss.Y, \"Bucket\": pd.cut(notmiss.X, np.unique(bins),include_lowest=True)}) \n",
        "\n",
        "        d2 = d1.groupby('Bucket', as_index=True)\n",
        "\n",
        "    \n",
        "\n",
        "    d3 = pd.DataFrame({},index=[])\n",
        "\n",
        "    d3[\"MIN_VALUE\"] = d2.min().X\n",
        "\n",
        "    d3[\"MAX_VALUE\"] = d2.max().X\n",
        "\n",
        "    d3[\"COUNT\"] = d2.count().Y\n",
        "\n",
        "    d3[\"EVENT\"] = d2.sum().Y\n",
        "\n",
        "    d3[\"NONEVENT\"] = d2.count().Y - d2.sum().Y\n",
        "\n",
        "    d3=d3.reset_index(drop=True)\n",
        "\n",
        "    \n",
        "\n",
        "    if len(justmiss.index) > 0:\n",
        "\n",
        "        d4 = pd.DataFrame({'MIN_VALUE':np.nan},index=[0])\n",
        "\n",
        "        d4[\"MAX_VALUE\"] = np.nan\n",
        "\n",
        "        d4[\"COUNT\"] = justmiss.count().Y\n",
        "\n",
        "        d4[\"EVENT\"] = justmiss.sum().Y\n",
        "\n",
        "        d4[\"NONEVENT\"] = justmiss.count().Y - justmiss.sum().Y\n",
        "\n",
        "        d3 = d3.append(d4,ignore_index=True)\n",
        "\n",
        "    \n",
        "\n",
        "    d3[\"EVENT_RATE\"] = d3.EVENT/d3.COUNT\n",
        "\n",
        "    d3[\"NON_EVENT_RATE\"] = d3.NONEVENT/d3.COUNT\n",
        "\n",
        "    d3[\"DIST_EVENT\"] = d3.EVENT/d3.sum().EVENT\n",
        "\n",
        "    d3[\"DIST_NON_EVENT\"] = d3.NONEVENT/d3.sum().NONEVENT\n",
        "\n",
        "    d3[\"WOE\"] = np.log(d3.DIST_EVENT/d3.DIST_NON_EVENT)\n",
        "\n",
        "    d3[\"IV\"] = (d3.DIST_EVENT-d3.DIST_NON_EVENT)*np.log(d3.DIST_EVENT/d3.DIST_NON_EVENT)\n",
        "\n",
        "    d3[\"VAR_NAME\"] = \"VAR\"\n",
        "\n",
        "    d3 = d3[['VAR_NAME','MIN_VALUE', 'MAX_VALUE', 'COUNT', 'EVENT', 'EVENT_RATE', 'NONEVENT', 'NON_EVENT_RATE', 'DIST_EVENT','DIST_NON_EVENT','WOE', 'IV']]       \n",
        "\n",
        "    d3 = d3.replace([np.inf, -np.inf], 0)\n",
        "\n",
        "    d3.IV = d3.IV.sum()\n",
        "\n",
        "    \n",
        "\n",
        "    return(d3)\n"
      ],
      "execution_count": 0,
      "outputs": []
    },
    {
      "cell_type": "code",
      "metadata": {
        "id": "HrsOAdcd--hX",
        "colab_type": "code",
        "colab": {}
      },
      "source": [
        "def char_bin(Y, X):\n",
        "\n",
        "        \n",
        "\n",
        "    df1 = pd.DataFrame({\"X\": X, \"Y\": Y})\n",
        "\n",
        "    justmiss = df1[['X','Y']][df1.X.isnull()]\n",
        "\n",
        "    notmiss = df1[['X','Y']][df1.X.notnull()]    \n",
        "\n",
        "    df2 = notmiss.groupby('X',as_index=True)\n",
        "\n",
        "    \n",
        "\n",
        "    d3 = pd.DataFrame({},index=[])\n",
        "\n",
        "    d3[\"COUNT\"] = df2.count().Y\n",
        "\n",
        "    d3[\"MIN_VALUE\"] = df2.sum().Y.index\n",
        "\n",
        "    d3[\"MAX_VALUE\"] = d3[\"MIN_VALUE\"]\n",
        "\n",
        "    d3[\"EVENT\"] = df2.sum().Y\n",
        "\n",
        "    d3[\"NONEVENT\"] = df2.count().Y - df2.sum().Y\n",
        "\n",
        "    \n",
        "\n",
        "    if len(justmiss.index) > 0:\n",
        "\n",
        "        d4 = pd.DataFrame({'MIN_VALUE':np.nan},index=[0])\n",
        "\n",
        "        d4[\"MAX_VALUE\"] = np.nan\n",
        "\n",
        "        d4[\"COUNT\"] = justmiss.count().Y\n",
        "\n",
        "        d4[\"EVENT\"] = justmiss.sum().Y\n",
        "\n",
        "        d4[\"NONEVENT\"] = justmiss.count().Y - justmiss.sum().Y\n",
        "\n",
        "        d3 = d3.append(d4,ignore_index=True)\n",
        "\n",
        "    \n",
        "\n",
        "    d3[\"EVENT_RATE\"] = d3.EVENT/d3.COUNT\n",
        "\n",
        "    d3[\"NON_EVENT_RATE\"] = d3.NONEVENT/d3.COUNT\n",
        "\n",
        "    d3[\"DIST_EVENT\"] = d3.EVENT/d3.sum().EVENT\n",
        "\n",
        "    d3[\"DIST_NON_EVENT\"] = d3.NONEVENT/d3.sum().NONEVENT\n",
        "\n",
        "    d3[\"WOE\"] = np.log(d3.DIST_EVENT/d3.DIST_NON_EVENT)\n",
        "\n",
        "    d3[\"IV\"] = (d3.DIST_EVENT-d3.DIST_NON_EVENT)*np.log(d3.DIST_EVENT/d3.DIST_NON_EVENT)\n",
        "\n",
        "    d3[\"VAR_NAME\"] = \"VAR\"\n",
        "\n",
        "    d3 = d3[['VAR_NAME','MIN_VALUE', 'MAX_VALUE', 'COUNT', 'EVENT', 'EVENT_RATE', 'NONEVENT', 'NON_EVENT_RATE', 'DIST_EVENT','DIST_NON_EVENT','WOE', 'IV']]      \n",
        "\n",
        "    d3 = d3.replace([np.inf, -np.inf], 0)\n",
        "\n",
        "    d3.IV = d3.IV.sum()\n",
        "\n",
        "    d3 = d3.reset_index(drop=True)\n",
        "\n",
        "    \n",
        "\n",
        "    return(d3)"
      ],
      "execution_count": 0,
      "outputs": []
    },
    {
      "cell_type": "code",
      "metadata": {
        "id": "AuHrkl6q_B8A",
        "colab_type": "code",
        "colab": {}
      },
      "source": [
        "def data_vars(df1, target):\n",
        "\n",
        "    \n",
        "\n",
        "    stack = traceback.extract_stack()\n",
        "\n",
        "    filename, lineno, function_name, code = stack[-2]\n",
        "\n",
        "    vars_name = re.compile(r'\\((.*?)\\).*$').search(code).groups()[0]\n",
        "\n",
        "    final = (re.findall(r\"[\\w']+\", vars_name))[-1]\n",
        "\n",
        "    \n",
        "\n",
        "    x = df1.dtypes.index\n",
        "\n",
        "    count = -1\n",
        "\n",
        "    \n",
        "\n",
        "    for i in x:\n",
        "\n",
        "        if i.upper() not in (final.upper()):\n",
        "\n",
        "            if np.issubdtype(df1[i], np.number) and len(Series.unique(df1[i])) > 2:\n",
        "\n",
        "                conv = mono_bin(target, df1[i])\n",
        "\n",
        "                conv[\"VAR_NAME\"] = i\n",
        "\n",
        "                count = count + 1\n",
        "\n",
        "            else:\n",
        "\n",
        "                conv = char_bin(target, df1[i])\n",
        "\n",
        "                conv[\"VAR_NAME\"] = i            \n",
        "\n",
        "                count = count + 1\n",
        "\n",
        "                \n",
        "\n",
        "            if count == 0:\n",
        "\n",
        "                iv_df = conv\n",
        "\n",
        "            else:\n",
        "\n",
        "                iv_df = iv_df.append(conv,ignore_index=True)\n",
        "\n",
        "    \n",
        "\n",
        "    iv = pd.DataFrame({'IV':iv_df.groupby('VAR_NAME').IV.max()})\n",
        "\n",
        "    iv = iv.reset_index()\n",
        "\n",
        "    return(iv_df,iv)"
      ],
      "execution_count": 0,
      "outputs": []
    },
    {
      "cell_type": "code",
      "metadata": {
        "id": "n9A87ldl_IDY",
        "colab_type": "code",
        "colab": {}
      },
      "source": [
        "final_iv, IV = data_vars(Collection_sample[Collection_sample.columns.difference(['TARGET'])],Collection_sample.TARGET)\n",
        "\n",
        "IV = IV.rename(columns={'VAR_NAME':'index'})\n",
        "\n",
        "IV.sort_values(['IV'],ascending=0)"
      ],
      "execution_count": 0,
      "outputs": []
    },
    {
      "cell_type": "code",
      "metadata": {
        "id": "I95CW0de_MOH",
        "colab_type": "code",
        "colab": {}
      },
      "source": [
        "#Missing Data\n",
        "\n",
        "# Function to calculate missing values by column# Funct \n",
        "\n",
        "def missing_values_table(Collection_sample):\n",
        "\n",
        "        # Total missing values\n",
        "\n",
        "        mis_val = Collection_sample.isnull().sum()\n",
        "\n",
        "        \n",
        "\n",
        "        # Percentage of missing values\n",
        "\n",
        "        mis_val_percent = 100 * Collection_sample.isnull().sum() / len(Collection_sample)\n",
        "\n",
        "        \n",
        "\n",
        "        # Make a table with the results\n",
        "\n",
        "        mis_val_table = pd.concat([mis_val , mis_val_percent], axis=1)\n",
        "\n",
        "        \n",
        "\n",
        "        # Rename the columns\n",
        "\n",
        "        mis_val_table_ren_columns = mis_val_table.rename(\n",
        "\n",
        "        columns = {0 : 'Missing Values', 1 : '% of Total Values'})\n",
        "\n",
        "        \n",
        "\n",
        "        # Sort the table by percentage of missing descending\n",
        "\n",
        "        mis_val_table_ren_columns = mis_val_table_ren_columns[\n",
        "\n",
        "            mis_val_table_ren_columns.iloc[:,1] != 0].sort_values(\n",
        "\n",
        "        '% of Total Values', ascending=False).round(1)\n",
        "\n",
        "        \n",
        "\n",
        "        # Print some summary information\n",
        "\n",
        "        print (\"Your selected dataframe has \" + str(Collection_sample.shape[1]) + \" columns.\\n\"      \n",
        "\n",
        "            \"There are \" + str(mis_val_table_ren_columns.shape[0]) +\n",
        "\n",
        "              \" columns that have missing values.\")\n",
        "\n",
        "        \n",
        "\n",
        "        # Return the dataframe with missing information\n",
        "\n",
        "        return mis_val_table_ren_columns\n"
      ],
      "execution_count": 0,
      "outputs": []
    },
    {
      "cell_type": "code",
      "metadata": {
        "id": "Jmsouest_SxK",
        "colab_type": "code",
        "outputId": "2a5ad026-3835-4384-d04e-4288418dec07",
        "colab": {
          "base_uri": "https://localhost:8080/",
          "height": 83
        }
      },
      "source": [
        "# Missing values statistics\n",
        "missing_values = missing_values_table(Collection_sample)\n",
        "\n",
        "missing_values.head(20)"
      ],
      "execution_count": 0,
      "outputs": [
        {
          "output_type": "stream",
          "text": [
            "Your selected dataframe has 17 columns.\n",
            "There are 0 columns that have missing values.\n"
          ],
          "name": "stdout"
        },
        {
          "output_type": "execute_result",
          "data": {
            "text/html": [
              "<div>\n",
              "<style scoped>\n",
              "    .dataframe tbody tr th:only-of-type {\n",
              "        vertical-align: middle;\n",
              "    }\n",
              "\n",
              "    .dataframe tbody tr th {\n",
              "        vertical-align: top;\n",
              "    }\n",
              "\n",
              "    .dataframe thead th {\n",
              "        text-align: right;\n",
              "    }\n",
              "</style>\n",
              "<table border=\"1\" class=\"dataframe\">\n",
              "  <thead>\n",
              "    <tr style=\"text-align: right;\">\n",
              "      <th></th>\n",
              "      <th>Missing Values</th>\n",
              "      <th>% of Total Values</th>\n",
              "    </tr>\n",
              "  </thead>\n",
              "  <tbody>\n",
              "  </tbody>\n",
              "</table>\n",
              "</div>"
            ],
            "text/plain": [
              "Empty DataFrame\n",
              "Columns: [Missing Values, % of Total Values]\n",
              "Index: []"
            ]
          },
          "metadata": {
            "tags": []
          },
          "execution_count": 58
        }
      ]
    },
    {
      "cell_type": "code",
      "metadata": {
        "id": "V5dTJDo8_41s",
        "colab_type": "code",
        "outputId": "36325f3a-5b88-442c-8b51-0fee1fe8e15b",
        "colab": {
          "base_uri": "https://localhost:8080/",
          "height": 496
        }
      },
      "source": [
        "# Imputation of missing values\n",
        "\n",
        "\n",
        "\n",
        "from sklearn.preprocessing import Imputer\n",
        "\n",
        "imputer = Imputer(missing_values = 'NaN',strategy ='mean',axis=0)\n",
        "\n",
        "\n",
        "\n",
        "imputer = Imputer.fit(Collection_sample[: ,15 : 16])\n",
        "\n",
        "Collection_sample[:,15 : 16] = imputer.transform(Collection_sample[:,15 : 16])"
      ],
      "execution_count": 0,
      "outputs": [
        {
          "output_type": "stream",
          "text": [
            "/usr/local/lib/python3.6/dist-packages/sklearn/utils/deprecation.py:66: DeprecationWarning: Class Imputer is deprecated; Imputer was deprecated in version 0.20 and will be removed in 0.22. Import impute.SimpleImputer from sklearn instead.\n",
            "  warnings.warn(msg, category=DeprecationWarning)\n"
          ],
          "name": "stderr"
        },
        {
          "output_type": "error",
          "ename": "TypeError",
          "evalue": "ignored",
          "traceback": [
            "\u001b[0;31m---------------------------------------------------------------------------\u001b[0m",
            "\u001b[0;31mTypeError\u001b[0m                                 Traceback (most recent call last)",
            "\u001b[0;32m<ipython-input-60-4fbe902bb6f7>\u001b[0m in \u001b[0;36m<module>\u001b[0;34m()\u001b[0m\n\u001b[1;32m      8\u001b[0m \u001b[0;34m\u001b[0m\u001b[0m\n\u001b[1;32m      9\u001b[0m \u001b[0;34m\u001b[0m\u001b[0m\n\u001b[0;32m---> 10\u001b[0;31m \u001b[0mimputer\u001b[0m \u001b[0;34m=\u001b[0m \u001b[0mImputer\u001b[0m\u001b[0;34m.\u001b[0m\u001b[0mfit\u001b[0m\u001b[0;34m(\u001b[0m\u001b[0mCollection_sample\u001b[0m\u001b[0;34m[\u001b[0m\u001b[0;34m:\u001b[0m \u001b[0;34m,\u001b[0m\u001b[0;36m15\u001b[0m \u001b[0;34m:\u001b[0m \u001b[0;36m16\u001b[0m\u001b[0;34m]\u001b[0m\u001b[0;34m)\u001b[0m\u001b[0;34m\u001b[0m\u001b[0;34m\u001b[0m\u001b[0m\n\u001b[0m\u001b[1;32m     11\u001b[0m \u001b[0;34m\u001b[0m\u001b[0m\n\u001b[1;32m     12\u001b[0m \u001b[0mCollection_sample\u001b[0m\u001b[0;34m[\u001b[0m\u001b[0;34m:\u001b[0m\u001b[0;34m,\u001b[0m\u001b[0;36m15\u001b[0m \u001b[0;34m:\u001b[0m \u001b[0;36m16\u001b[0m\u001b[0;34m]\u001b[0m \u001b[0;34m=\u001b[0m \u001b[0mimputer\u001b[0m\u001b[0;34m.\u001b[0m\u001b[0mtransform\u001b[0m\u001b[0;34m(\u001b[0m\u001b[0mCollection_sample\u001b[0m\u001b[0;34m[\u001b[0m\u001b[0;34m:\u001b[0m\u001b[0;34m,\u001b[0m\u001b[0;36m15\u001b[0m \u001b[0;34m:\u001b[0m \u001b[0;36m16\u001b[0m\u001b[0;34m]\u001b[0m\u001b[0;34m)\u001b[0m\u001b[0;34m\u001b[0m\u001b[0;34m\u001b[0m\u001b[0m\n",
            "\u001b[0;32m/usr/local/lib/python3.6/dist-packages/pandas/core/frame.py\u001b[0m in \u001b[0;36m__getitem__\u001b[0;34m(self, key)\u001b[0m\n\u001b[1;32m   2925\u001b[0m             \u001b[0;32mif\u001b[0m \u001b[0mself\u001b[0m\u001b[0;34m.\u001b[0m\u001b[0mcolumns\u001b[0m\u001b[0;34m.\u001b[0m\u001b[0mnlevels\u001b[0m \u001b[0;34m>\u001b[0m \u001b[0;36m1\u001b[0m\u001b[0;34m:\u001b[0m\u001b[0;34m\u001b[0m\u001b[0;34m\u001b[0m\u001b[0m\n\u001b[1;32m   2926\u001b[0m                 \u001b[0;32mreturn\u001b[0m \u001b[0mself\u001b[0m\u001b[0;34m.\u001b[0m\u001b[0m_getitem_multilevel\u001b[0m\u001b[0;34m(\u001b[0m\u001b[0mkey\u001b[0m\u001b[0;34m)\u001b[0m\u001b[0;34m\u001b[0m\u001b[0;34m\u001b[0m\u001b[0m\n\u001b[0;32m-> 2927\u001b[0;31m             \u001b[0mindexer\u001b[0m \u001b[0;34m=\u001b[0m \u001b[0mself\u001b[0m\u001b[0;34m.\u001b[0m\u001b[0mcolumns\u001b[0m\u001b[0;34m.\u001b[0m\u001b[0mget_loc\u001b[0m\u001b[0;34m(\u001b[0m\u001b[0mkey\u001b[0m\u001b[0;34m)\u001b[0m\u001b[0;34m\u001b[0m\u001b[0;34m\u001b[0m\u001b[0m\n\u001b[0m\u001b[1;32m   2928\u001b[0m             \u001b[0;32mif\u001b[0m \u001b[0mis_integer\u001b[0m\u001b[0;34m(\u001b[0m\u001b[0mindexer\u001b[0m\u001b[0;34m)\u001b[0m\u001b[0;34m:\u001b[0m\u001b[0;34m\u001b[0m\u001b[0;34m\u001b[0m\u001b[0m\n\u001b[1;32m   2929\u001b[0m                 \u001b[0mindexer\u001b[0m \u001b[0;34m=\u001b[0m \u001b[0;34m[\u001b[0m\u001b[0mindexer\u001b[0m\u001b[0;34m]\u001b[0m\u001b[0;34m\u001b[0m\u001b[0;34m\u001b[0m\u001b[0m\n",
            "\u001b[0;32m/usr/local/lib/python3.6/dist-packages/pandas/core/indexes/base.py\u001b[0m in \u001b[0;36mget_loc\u001b[0;34m(self, key, method, tolerance)\u001b[0m\n\u001b[1;32m   2655\u001b[0m                                  'backfill or nearest lookups')\n\u001b[1;32m   2656\u001b[0m             \u001b[0;32mtry\u001b[0m\u001b[0;34m:\u001b[0m\u001b[0;34m\u001b[0m\u001b[0;34m\u001b[0m\u001b[0m\n\u001b[0;32m-> 2657\u001b[0;31m                 \u001b[0;32mreturn\u001b[0m \u001b[0mself\u001b[0m\u001b[0;34m.\u001b[0m\u001b[0m_engine\u001b[0m\u001b[0;34m.\u001b[0m\u001b[0mget_loc\u001b[0m\u001b[0;34m(\u001b[0m\u001b[0mkey\u001b[0m\u001b[0;34m)\u001b[0m\u001b[0;34m\u001b[0m\u001b[0;34m\u001b[0m\u001b[0m\n\u001b[0m\u001b[1;32m   2658\u001b[0m             \u001b[0;32mexcept\u001b[0m \u001b[0mKeyError\u001b[0m\u001b[0;34m:\u001b[0m\u001b[0;34m\u001b[0m\u001b[0;34m\u001b[0m\u001b[0m\n\u001b[1;32m   2659\u001b[0m                 \u001b[0;32mreturn\u001b[0m \u001b[0mself\u001b[0m\u001b[0;34m.\u001b[0m\u001b[0m_engine\u001b[0m\u001b[0;34m.\u001b[0m\u001b[0mget_loc\u001b[0m\u001b[0;34m(\u001b[0m\u001b[0mself\u001b[0m\u001b[0;34m.\u001b[0m\u001b[0m_maybe_cast_indexer\u001b[0m\u001b[0;34m(\u001b[0m\u001b[0mkey\u001b[0m\u001b[0;34m)\u001b[0m\u001b[0;34m)\u001b[0m\u001b[0;34m\u001b[0m\u001b[0;34m\u001b[0m\u001b[0m\n",
            "\u001b[0;32mpandas/_libs/index.pyx\u001b[0m in \u001b[0;36mpandas._libs.index.IndexEngine.get_loc\u001b[0;34m()\u001b[0m\n",
            "\u001b[0;32mpandas/_libs/index.pyx\u001b[0m in \u001b[0;36mpandas._libs.index.IndexEngine.get_loc\u001b[0;34m()\u001b[0m\n",
            "\u001b[0;31mTypeError\u001b[0m: '(slice(None, None, None), slice(15, 16, None))' is an invalid key"
          ]
        }
      ]
    },
    {
      "cell_type": "code",
      "metadata": {
        "id": "SP0MLZ3b_7iO",
        "colab_type": "code",
        "outputId": "bc566661-ea92-4250-b419-03156577e3dc",
        "colab": {
          "base_uri": "https://localhost:8080/",
          "height": 71
        }
      },
      "source": [
        "\n",
        "#Variable Importance using RF\n",
        "\n",
        "from sklearn.ensemble import RandomForestClassifier\n",
        "\n",
        "clf = RandomForestClassifier()\n",
        "\n",
        "clf.fit(features,labels)\n",
        "\n",
        "preds = clf.predict(features)\n"
      ],
      "execution_count": 0,
      "outputs": [
        {
          "output_type": "stream",
          "text": [
            "/usr/local/lib/python3.6/dist-packages/sklearn/ensemble/forest.py:245: FutureWarning: The default value of n_estimators will change from 10 in version 0.20 to 100 in 0.22.\n",
            "  \"10 in version 0.20 to 100 in 0.22.\", FutureWarning)\n"
          ],
          "name": "stderr"
        }
      ]
    },
    {
      "cell_type": "code",
      "metadata": {
        "id": "ZV-FpHliAA3P",
        "colab_type": "code",
        "colab": {}
      },
      "source": [
        "from sklearn.metrics import accuracy_score\n",
        "\n",
        "accuracy = accuracy_score(preds,labels)\n",
        "\n",
        "print(accuracy)"
      ],
      "execution_count": 0,
      "outputs": []
    },
    {
      "cell_type": "code",
      "metadata": {
        "id": "xyne6w6lADUW",
        "colab_type": "code",
        "colab": {}
      },
      "source": [
        "from pandas import DataFrame\n",
        "\n",
        "VI = DataFrame(clf.feature_importances_, columns = [\"RF\"], index=features.columns)\n",
        "\n",
        "VI = VI.reset_index()\n",
        "\n",
        "VI.sort_values(['RF'],ascending=0)\n"
      ],
      "execution_count": 0,
      "outputs": []
    },
    {
      "cell_type": "code",
      "metadata": {
        "id": "xOFWH1lbAHMe",
        "colab_type": "code",
        "colab": {}
      },
      "source": [
        "#Multicollinearity\n",
        "from statsmodels.stats.outliers_influence import variance_inflation_factor\n",
        "\n",
        "def calculate_vif(features):\n",
        "\n",
        "    vif = pd.DataFrame()\n",
        "\n",
        "    vif[\"Features\"] = features.columns\n",
        "\n",
        "    vif[\"VIF\"] = [variance_inflation_factor(features.values, i) for i in range(features.shape[1])]    \n",
        "\n",
        "    return(vif)"
      ],
      "execution_count": 0,
      "outputs": []
    },
    {
      "cell_type": "code",
      "metadata": {
        "id": "kOvNdn2WAMSW",
        "colab_type": "code",
        "colab": {}
      },
      "source": [
        "vif = calculate_vif(features)\n",
        "\n",
        "while vif['VIF'][vif['VIF'] > 10].any():\n",
        "\n",
        "    remove = vif.sort_values('VIF',ascending=0)['Features'][:1]\n",
        "\n",
        "    features.drop(remove,axis=1,inplace=True)\n",
        "\n",
        "    vif = calculate_vif(features)\n",
        "\n",
        "\n",
        "\n",
        "list(vif['Features'])"
      ],
      "execution_count": 0,
      "outputs": []
    },
    {
      "cell_type": "code",
      "metadata": {
        "id": "oWCy0rdJARZ2",
        "colab_type": "code",
        "colab": {}
      },
      "source": [
        "final_vars = list(vif['Features']) + ['TARGET']\n",
        "\n",
        "df1 = df[final_vars].fillna(0)\n",
        "\n",
        "df1.describe()"
      ],
      "execution_count": 0,
      "outputs": []
    },
    {
      "cell_type": "code",
      "metadata": {
        "id": "TSOTwQ4nAUdm",
        "colab_type": "code",
        "outputId": "22aff1e6-e027-440f-8e2a-0383d3227c1b",
        "colab": {
          "base_uri": "https://localhost:8080/",
          "height": 316
        }
      },
      "source": [
        "#RandomForest\n",
        "from sklearn.cross_validation import train_test_split\n",
        "\n"
      ],
      "execution_count": 0,
      "outputs": [
        {
          "output_type": "error",
          "ename": "ModuleNotFoundError",
          "evalue": "ignored",
          "traceback": [
            "\u001b[0;31m---------------------------------------------------------------------------\u001b[0m",
            "\u001b[0;31mModuleNotFoundError\u001b[0m                       Traceback (most recent call last)",
            "\u001b[0;32m<ipython-input-68-66d18fb932dc>\u001b[0m in \u001b[0;36m<module>\u001b[0;34m()\u001b[0m\n\u001b[0;32m----> 1\u001b[0;31m \u001b[0;32mfrom\u001b[0m \u001b[0msklearn\u001b[0m\u001b[0;34m.\u001b[0m\u001b[0mcross_validation\u001b[0m \u001b[0;32mimport\u001b[0m \u001b[0mtrain_test_split\u001b[0m\u001b[0;34m\u001b[0m\u001b[0;34m\u001b[0m\u001b[0m\n\u001b[0m\u001b[1;32m      2\u001b[0m \u001b[0;34m\u001b[0m\u001b[0m\n",
            "\u001b[0;31mModuleNotFoundError\u001b[0m: No module named 'sklearn.cross_validation'",
            "",
            "\u001b[0;31m---------------------------------------------------------------------------\u001b[0;32m\nNOTE: If your import is failing due to a missing package, you can\nmanually install dependencies using either !pip or !apt.\n\nTo view examples of installing some common dependencies, click the\n\"Open Examples\" button below.\n\u001b[0;31m---------------------------------------------------------------------------\u001b[0m\n"
          ]
        }
      ]
    },
    {
      "cell_type": "code",
      "metadata": {
        "id": "wV4cOrdcAvJ9",
        "colab_type": "code",
        "colab": {}
      },
      "source": [
        "#RandomForest\n",
        "from sklearn.model_selection import train_test_split\n",
        "\n"
      ],
      "execution_count": 0,
      "outputs": []
    },
    {
      "cell_type": "code",
      "metadata": {
        "id": "80oxnkJ8BAzF",
        "colab_type": "code",
        "colab": {}
      },
      "source": [
        "\n",
        "train, test = train_test_split(Collection_sample, test_size = 0.4)\n",
        "\n",
        "train = train.reset_index(drop=True)\n",
        "\n",
        "test = test.reset_index(drop=True)\n",
        "\n",
        "features_train = train[list(vif[\"Features\"])]\n",
        "\n",
        "label_train = train['TARGET']\n",
        "\n",
        "features_test = test[list(vif[\"Features\"])]\n",
        "\n",
        "label_test = test['TARGET']\n"
      ],
      "execution_count": 0,
      "outputs": []
    },
    {
      "cell_type": "code",
      "metadata": {
        "id": "NNoF9aQ_BEJd",
        "colab_type": "code",
        "outputId": "1215ec60-20dc-443a-8166-601f32d7cd3a",
        "colab": {
          "base_uri": "https://localhost:8080/",
          "height": 71
        }
      },
      "source": [
        "\n",
        "from sklearn.ensemble import RandomForestClassifier\n",
        "\n",
        "clf = RandomForestClassifier()\n",
        "\n",
        "clf.fit(features_train,label_train)\n",
        "\n",
        "pred_train = clf.predict(features_train)\n",
        "\n",
        "pred_test = clf.predict(features_test)\n"
      ],
      "execution_count": 0,
      "outputs": [
        {
          "output_type": "stream",
          "text": [
            "/usr/local/lib/python3.6/dist-packages/sklearn/ensemble/forest.py:245: FutureWarning: The default value of n_estimators will change from 10 in version 0.20 to 100 in 0.22.\n",
            "  \"10 in version 0.20 to 100 in 0.22.\", FutureWarning)\n"
          ],
          "name": "stderr"
        }
      ]
    },
    {
      "cell_type": "code",
      "metadata": {
        "id": "YLszqF88BIv8",
        "colab_type": "code",
        "colab": {}
      },
      "source": [
        "from sklearn.metrics import accuracy_score\n",
        "\n",
        "accuracy_train = accuracy_score(pred_train,label_train)\n",
        "\n",
        "accuracy_test = accuracy_score(pred_test,label_test)"
      ],
      "execution_count": 0,
      "outputs": []
    },
    {
      "cell_type": "code",
      "metadata": {
        "id": "u7QK04RgBLbs",
        "colab_type": "code",
        "colab": {}
      },
      "source": [
        "from sklearn import metrics\n",
        "\n",
        "fpr, tpr, _ = metrics.roc_curve(np.array(label_train), clf.predict_proba(features_train)[:,1])\n",
        "\n",
        "auc_train = metrics.auc(fpr,tpr)"
      ],
      "execution_count": 0,
      "outputs": []
    },
    {
      "cell_type": "code",
      "metadata": {
        "id": "-QekPflgBNYO",
        "colab_type": "code",
        "colab": {}
      },
      "source": [
        "fpr, tpr, _ = metrics.roc_curve(np.array(label_test), clf.predict_proba(features_test)[:,1])\n",
        "\n",
        "auc_test = metrics.auc(fpr,tpr)\n",
        "\n"
      ],
      "execution_count": 0,
      "outputs": []
    },
    {
      "cell_type": "code",
      "metadata": {
        "id": "gfgAlZyABP-s",
        "colab_type": "code",
        "colab": {}
      },
      "source": [
        "\n",
        "print(accuracy_train,accuracy_test,auc_train,auc_test)\n",
        "\n",
        "pd.crosstab(label_train,pd.Series(pred_train),rownames=['ACTUAL'],colnames=['PRED'])\n",
        "\n",
        "pd.crosstab(label_test,pd.Series(pred_test),rownames=['ACTUAL'],colnames=['PRED'])"
      ],
      "execution_count": 0,
      "outputs": []
    },
    {
      "cell_type": "code",
      "metadata": {
        "id": "u7n_EsGqBUWU",
        "colab_type": "code",
        "colab": {}
      },
      "source": [
        "\n",
        "#GradientBoosting\n",
        "\n",
        "from sklearn.ensemble import GradientBoostingClassifier\n",
        "\n",
        "clf = GradientBoostingClassifier()\n",
        "\n",
        "clf.fit(features_train,label_train)\n",
        "\n",
        "pred_train = clf.predict(features_train)\n",
        "\n",
        "pred_test = clf.predict(features_test)"
      ],
      "execution_count": 0,
      "outputs": []
    },
    {
      "cell_type": "code",
      "metadata": {
        "id": "X37a8nzGBZql",
        "colab_type": "code",
        "colab": {}
      },
      "source": [
        "from sklearn.metrics import accuracy_score\n",
        "\n",
        "accuracy_train = accuracy_score(pred_train,label_train)\n",
        "\n",
        "accuracy_test = accuracy_score(pred_test,label_test)\n"
      ],
      "execution_count": 0,
      "outputs": []
    },
    {
      "cell_type": "code",
      "metadata": {
        "id": "i3afnj5pBdVU",
        "colab_type": "code",
        "colab": {}
      },
      "source": [
        "from sklearn import metrics\n",
        "\n",
        "fpr, tpr, _ = metrics.roc_curve(np.array(label_train), clf.predict_proba(features_train)[:,1])\n",
        "\n",
        "auc_train = metrics.auc(fpr,tpr)\n",
        "\n",
        "fpr, tpr, _ = metrics.roc_curve(np.array(label_test), clf.predict_proba(features_test)[:,1])\n",
        "\n",
        "auc_test = metrics.auc(fpr,tpr)\n",
        "\n",
        "print(accuracy_train,accuracy_test,auc_train,auc_test)\n",
        "\n",
        "pd.crosstab(label_train,pd.Series(pred_train),rownames=['ACTUAL'],colnames=['PRED'])\n"
      ],
      "execution_count": 0,
      "outputs": []
    },
    {
      "cell_type": "code",
      "metadata": {
        "id": "scjxmnxbBkZW",
        "colab_type": "code",
        "colab": {}
      },
      "source": [
        "#Deciles and KS Statistics\n",
        "\n",
        "from collections import OrderedDict\n",
        "\n",
        "import pandas as pd\n",
        "\n",
        "import sys\n",
        "\n",
        "%matplotlib inline\n"
      ],
      "execution_count": 0,
      "outputs": []
    },
    {
      "cell_type": "code",
      "metadata": {
        "id": "IXPVD1OdBop8",
        "colab_type": "code",
        "colab": {}
      },
      "source": [
        "def plot_pandas_style(styler):\n",
        "\n",
        "    from IPython.core.display import HTML\n",
        "\n",
        "    html = '\\n'.join([line.lstrip() for line in styler.render().split('\\n')])\n",
        "\n",
        "    return HTML(html)"
      ],
      "execution_count": 0,
      "outputs": []
    },
    {
      "cell_type": "code",
      "metadata": {
        "id": "yaA9lBMVBrb0",
        "colab_type": "code",
        "colab": {}
      },
      "source": [
        "def highlight_max(s,color='yellow'):\n",
        "\n",
        "    '''\n",
        "\n",
        "    highlight the maximum in a Series yellow.\n",
        "\n",
        "    '''\n",
        "\n",
        "    is_max = s == s.max()\n",
        "\n",
        "    return ['background-color: {}'.format(color) if v else '' for v in is_max]\n",
        "\n"
      ],
      "execution_count": 0,
      "outputs": []
    },
    {
      "cell_type": "code",
      "metadata": {
        "id": "aFpHMr5PBvNe",
        "colab_type": "code",
        "colab": {}
      },
      "source": [
        "def decile_labels(agg1,label,color='skyblue'):\n",
        "\n",
        "    agg_dummy = pd.DataFrame(OrderedDict((('TOTAL',0),('TARGET',0),('NONTARGET',0),('PCT_TAR',0),('CUM_TAR',0),('CUM_NONTAR',0),('DIST_TAR',0),('DIST_NONTAR',0),('SPREAD',0))),index=[0])\n",
        "\n",
        "    agg1 = agg1.append(agg_dummy).sort_index()\n",
        "\n",
        "    agg1.index.name = label\n",
        "\n",
        "    agg1 = agg1.style.apply(highlight_max, color = 'yellow', subset=['SPREAD'])\n",
        "\n",
        "    agg1.bar(subset=['TARGET'], color='{}'.format(color))\n",
        "\n",
        "    agg1.bar(subset=['TOTAL'], color='{}'.format(color))\n",
        "\n",
        "    agg1.bar(subset=['PCT_TAR'], color='{}'.format(color))\n",
        "\n",
        "    return(agg1)\n",
        "\n",
        "    "
      ],
      "execution_count": 0,
      "outputs": []
    },
    {
      "cell_type": "code",
      "metadata": {
        "id": "JSyf9ghGByH8",
        "colab_type": "code",
        "colab": {}
      },
      "source": [
        "def deciling(data,decile_by,target,nontarget):\n",
        "\n",
        "    inputs = list(decile_by)\n",
        "\n",
        "    inputs.extend((target,nontarget))\n",
        "\n",
        "    decile = data[inputs]\n",
        "\n",
        "    grouped = decile.groupby(decile_by)\n",
        "\n",
        "    agg1 = pd.DataFrame({},index=[])\n",
        "\n",
        "    agg1['TOTAL'] = grouped.sum()[nontarget] + grouped.sum()[target]\n",
        "\n",
        "    agg1['TARGET'] = grouped.sum()[target]\n",
        "\n",
        "    agg1['NONTARGET'] = grouped.sum()[nontarget]\n",
        "\n",
        "    agg1['PCT_TAR'] = grouped.mean()[target]*100\n",
        "\n",
        "    agg1['CUM_TAR'] = grouped.sum()[target].cumsum()\n",
        "\n",
        "    agg1['CUM_NONTAR'] = grouped.sum()[nontarget].cumsum()\n",
        "\n",
        "    agg1['DIST_TAR'] = agg1['CUM_TAR']/agg1['TARGET'].sum()*100\n",
        "\n",
        "    agg1['DIST_NONTAR'] = agg1['CUM_NONTAR']/agg1['NONTARGET'].sum()*100\n",
        "\n",
        "    agg1['SPREAD'] = (agg1['DIST_TAR'] - agg1['DIST_NONTAR'])\n",
        "\n",
        "    agg1 = decile_labels(agg1,'DECILE',color='skyblue')\n",
        "\n",
        "    return(plot_pandas_style(agg1))\n"
      ],
      "execution_count": 0,
      "outputs": []
    },
    {
      "cell_type": "code",
      "metadata": {
        "id": "_4licn7wB2nc",
        "colab_type": "code",
        "colab": {}
      },
      "source": [
        "def scoring (features,clf,target): \n",
        "\n",
        "        score=pd.DataFrame(clf.predict_proba(features)[:,1], columns = ['SCORE'])\n",
        "\n",
        "        score['DECILE'] = pd.qcut(score['SCORE'].rank(method = 'first'),10,labels=range(10,0,-1))\n",
        "\n",
        "        score['DECILE'] = score['DECILE'].astype(float)\n",
        "\n",
        "        score['TARGET'] = target\n",
        "\n",
        "        score['NONTARGET'] = 1 - target\n",
        "\n",
        "        return(score)\n",
        "\n",
        "    \n",
        "scores_train = scoring(features_train,clf,label_train)\n",
        "\n",
        "scores_test = scoring(features_test,clf,label_test)\n",
        "\n",
        "\n",
        "\n",
        "deciling(scores_train,['DECILE'],'TARGET','NONTARGET')\n",
        "\n",
        "deciling(scores_test,['DECILE'],'TARGET','NONTARGET')\n"
      ],
      "execution_count": 0,
      "outputs": []
    },
    {
      "cell_type": "code",
      "metadata": {
        "id": "wEQKgOz8B_XT",
        "colab_type": "code",
        "colab": {}
      },
      "source": [
        "from collections import OrderedDict\n",
        "\n",
        "import pandas as pd\n",
        "\n",
        "import matplotlib.pyplot as plt\n",
        "\n",
        "\n",
        "\n",
        "def plots(agg1,target,type):\n",
        "\n",
        "    plt.figure(1,figsize=(20, 5))\n",
        "\n",
        "    plt.subplot(131)\n",
        "\n",
        "    plt.plot(agg1['DECILE'],agg1['ACTUAL'],label='Actual')\n",
        "\n",
        "    plt.plot(agg1['DECILE'],agg1['PRED'],label='Pred')\n",
        "\n",
        "    plt.xticks(range(10,110,10))\n",
        "\n",
        "    plt.legend(fontsize=15)\n",
        "\n",
        "    plt.grid(True)\n",
        "\n",
        "    plt.title('Actual vs Predicted', fontsize=20)\n",
        "\n",
        "    plt.xlabel(\"Population %\",fontsize=15)\n",
        "\n",
        "    plt.ylabel(str(target) + \" \" + str(type) + \" %\",fontsize=15)\n",
        "\n",
        "\n",
        "\n",
        "    plt.subplot(132)\n",
        "\n",
        "    X = agg1['DECILE'].tolist()\n",
        "\n",
        "    X.append(0)\n",
        "\n",
        "    Y = agg1['DIST_TAR'].tolist()\n",
        "\n",
        "    Y.append(0)\n",
        "\n",
        "    plt.plot(sorted(X),sorted(Y))\n",
        "\n",
        "    plt.plot([0, 100], [0, 100],'r--')\n",
        "\n",
        "    plt.xticks(range(0,110,10))\n",
        "\n",
        "    plt.yticks(range(0,110,10))\n",
        "\n",
        "    plt.grid(True)\n",
        "\n",
        "    plt.title('Gains Chart', fontsize=20)\n",
        "\n",
        "    plt.xlabel(\"Population %\",fontsize=15)\n",
        "\n",
        "    plt.ylabel(str(target) + str(\" DISTRIBUTION\") + \" %\",fontsize=15)\n",
        "\n",
        "    plt.annotate(round(agg1[agg1['DECILE'] == 30].DIST_TAR.item(),2),xy=[30,30], \n",
        "\n",
        "            xytext=(25, agg1[agg1['DECILE'] == 30].DIST_TAR.item() + 5),fontsize = 13)\n",
        "\n",
        "    plt.annotate(round(agg1[agg1['DECILE'] == 50].DIST_TAR.item(),2),xy=[50,50], \n",
        "\n",
        "            xytext=(45, agg1[agg1['DECILE'] == 50].DIST_TAR.item() + 5),fontsize = 13)\n",
        "\n",
        "\n",
        "\n",
        "    plt.subplot(133)\n",
        "\n",
        "    plt.plot(agg1['DECILE'],agg1['LIFT'])\n",
        "\n",
        "    plt.xticks(range(10,110,10))\n",
        "\n",
        "    plt.grid(True)\n",
        "\n",
        "    plt.title('Lift Chart', fontsize=20)\n",
        "\n",
        "    plt.xlabel(\"Population %\",fontsize=15)\n",
        "\n",
        "    plt.ylabel(\"Lift\",fontsize=15)\n",
        "\n",
        "\n",
        "\n",
        "    plt.tight_layout()\n"
      ],
      "execution_count": 0,
      "outputs": []
    },
    {
      "cell_type": "code",
      "metadata": {
        "id": "mWz0U5ezCQN1",
        "colab_type": "code",
        "outputId": "f0eabee8-75ac-41c6-8f72-966dd0dc897b",
        "colab": {
          "base_uri": "https://localhost:8080/",
          "height": 389
        }
      },
      "source": [
        "def gains(data,decile_by,target,score):\n",
        "\n",
        "    inputs = list(decile_by)\n",
        "\n",
        "    inputs.extend((target,score))\n",
        "\n",
        "    decile = data[inputs]\n",
        "\n",
        "    grouped = decile.groupby(decile_by)\n",
        "\n",
        "    agg1 = pd.DataFrame({},index=[])\n",
        "\n",
        "    agg1['ACTUAL'] = grouped.mean()[target]*100\n",
        "\n",
        "    agg1['PRED'] = grouped.mean()[score]*100\n",
        "\n",
        "    agg1['DIST_TAR'] = grouped.sum()[target].cumsum()/grouped.sum()[target].sum()*100\n",
        "\n",
        "    agg1.index.name = 'DECILE'\n",
        "\n",
        "    agg1 = agg1.reset_index()\n",
        "\n",
        "    agg1['DECILE'] = agg1['DECILE']*10\n",
        "\n",
        "    agg1['LIFT'] = agg1['DIST_TAR']/agg1['DECILE']\n",
        "\n",
        "    plots(agg1,target,'Distribution')\n",
        "\n",
        "    \n",
        "\n",
        "lift_train = pd.concat([features_train,scores_train],axis=1)\n",
        "\n",
        "lift_test = pd.concat([features_test,scores_test],axis=1)\n",
        "\n",
        "\n",
        "\n",
        "gains(lift_train,['DECILE'],'TARGET','SCORE')\n"
      ],
      "execution_count": 0,
      "outputs": [
        {
          "output_type": "display_data",
          "data": {
            "image/png": "[encoded data removed]",
            "text/plain": [
              "<Figure size 1440x360 with 3 Axes>"
            ]
          },
          "metadata": {
            "tags": []
          }
        }
      ]
    }
  ]
}