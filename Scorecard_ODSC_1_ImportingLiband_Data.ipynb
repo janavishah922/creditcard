{
  "nbformat": 4,
  "nbformat_minor": 0,
  "metadata": {
    "colab": {
      "name": "Scorecard_ODSC_1_ImportingLiband_Data.ipynb",
      "version": "0.3.2",
      "provenance": [],
      "include_colab_link": true
    },
    "kernelspec": {
      "name": "python3",
      "display_name": "Python 3"
    }
  },
  "cells": [
    {
      "cell_type": "markdown",
      "metadata": {
        "id": "view-in-github",
        "colab_type": "text"
      },
      "source": [
        "<a href=\"https://colab.research.google.com/github/janavishah922/creditcard/blob/master/Scorecard_ODSC_1_ImportingLiband_Data.ipynb\" target=\"_parent\"><img src=\"https://colab.research.google.com/assets/colab-badge.svg\" alt=\"Open In Colab\"/></a>"
      ]
    },
    {
      "cell_type": "code",
      "metadata": {
        "id": "phaotMb6LP34",
        "colab_type": "code",
        "colab": {}
      },
      "source": [
        "\n",
        "!git clone -l -s https://github.com/kavitablockyto/ScorecardODSC.git ODSC\n",
        "  \n"
      ],
      "execution_count": 0,
      "outputs": []
    },
    {
      "cell_type": "code",
      "metadata": {
        "id": "OQCEMDCHMOyD",
        "colab_type": "code",
        "colab": {}
      },
      "source": [
        "#Importing the Libraries\n",
        "\n",
        "import pandas as pd\n",
        "import numpy as np\n",
        "import matplotlib.pyplot as plt\n",
        "import seaborn as sns"
      ],
      "execution_count": 0,
      "outputs": []
    },
    {
      "cell_type": "code",
      "metadata": {
        "id": "TDHB3LSOL3jJ",
        "colab_type": "code",
        "colab": {}
      },
      "source": [
        "#Reading the Dataset\n",
        "\n",
        "path = \"/content/ODSC/Collection_Home3.xlsx\"\n",
        "df = pd.read_excel(path)\n",
        "Collection_sample = df.sample(frac=0.1)\n"
      ],
      "execution_count": 0,
      "outputs": []
    },
    {
      "cell_type": "code",
      "metadata": {
        "id": "awKMeFJEMN4B",
        "colab_type": "code",
        "colab": {}
      },
      "source": [
        "# Counting Target Variable numbers\n",
        "df.TARGET.value_counts()\n",
        "Collection_sample.TARGET.value_counts()\n"
      ],
      "execution_count": 0,
      "outputs": []
    },
    {
      "cell_type": "code",
      "metadata": {
        "id": "u5Xw96h3MEqR",
        "colab_type": "code",
        "colab": {}
      },
      "source": [
        "#Descriptive Stats\n",
        "#Target Variable Count in data and sample\n",
        "\n",
        "df.TARGET.value_counts()/len(df)\n",
        "Collection_sample.TARGET.value_counts()/len(Collection_sample)\n"
      ],
      "execution_count": 0,
      "outputs": []
    },
    {
      "cell_type": "code",
      "metadata": {
        "id": "eEIUtvrvMtG1",
        "colab_type": "code",
        "colab": {}
      },
      "source": [
        "# Data Description\n",
        "Collection_sample.describe()"
      ],
      "execution_count": 0,
      "outputs": []
    },
    {
      "cell_type": "code",
      "metadata": {
        "id": "EvpccM5OTuip",
        "colab_type": "code",
        "colab": {
          "base_uri": "https://localhost:8080/",
          "height": 294
        },
        "outputId": "f043dd78-e083-465a-a886-fb390a574f03"
      },
      "source": [
        "!git clone https://github.com/kavitablockyto/ScorecardODSC\n",
        "%cd ScorecardODSC\n",
        "!git add Scorecare_Odsc_1_ImportingLiband_Data.ipynb\n",
        "!git commit --message=\"ImportingData\"\n",
        "!git push\n",
        "\n",
        "\n",
        "\n"
      ],
      "execution_count": 12,
      "outputs": [
        {
          "output_type": "stream",
          "text": [
            "fatal: destination path 'ScorecardODSC' already exists and is not an empty directory.\n",
            "/content/ScorecardODSC\n",
            "fatal: pathspec 'Scorecare_Odsc_1_ImportingLiband_Data.ipynb' did not match any files\n",
            "\n",
            "*** Please tell me who you are.\n",
            "\n",
            "Run\n",
            "\n",
            "  git config --global user.email \"you@example.com\"\n",
            "  git config --global user.name \"Your Name\"\n",
            "\n",
            "to set your account's default identity.\n",
            "Omit --global to set the identity only in this repository.\n",
            "\n",
            "fatal: unable to auto-detect email address (got 'root@99dc74588284.(none)')\n",
            "fatal: could not read Username for 'https://github.com': No such device or address\n"
          ],
          "name": "stdout"
        }
      ]
    }
  ]
}